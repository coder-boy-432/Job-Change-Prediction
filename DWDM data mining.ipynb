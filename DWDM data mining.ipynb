{
 "cells": [
  {
   "cell_type": "markdown",
   "metadata": {},
   "source": [
    "<h2>Importing necessary libraries</h2>"
   ]
  },
  {
   "cell_type": "code",
   "execution_count": 1,
   "metadata": {},
   "outputs": [
    {
     "ename": "ModuleNotFoundError",
     "evalue": "No module named 'absl'",
     "output_type": "error",
     "traceback": [
      "\u001b[1;31m---------------------------------------------------------------------------\u001b[0m",
      "\u001b[1;31mModuleNotFoundError\u001b[0m                       Traceback (most recent call last)",
      "\u001b[1;32m<ipython-input-1-64156d691fe5>\u001b[0m in \u001b[0;36m<module>\u001b[1;34m\u001b[0m\n\u001b[1;32m----> 1\u001b[1;33m \u001b[1;32mimport\u001b[0m \u001b[0mtensorflow\u001b[0m \u001b[1;32mas\u001b[0m \u001b[0mtf\u001b[0m\u001b[1;33m\u001b[0m\u001b[1;33m\u001b[0m\u001b[0m\n\u001b[0m",
      "\u001b[1;32m~\\AppData\\Roaming\\Python\\Python38\\site-packages\\tensorflow\\__init__.py\u001b[0m in \u001b[0;36m<module>\u001b[1;34m\u001b[0m\n\u001b[0;32m     39\u001b[0m \u001b[1;32mimport\u001b[0m \u001b[0msys\u001b[0m \u001b[1;32mas\u001b[0m \u001b[0m_sys\u001b[0m\u001b[1;33m\u001b[0m\u001b[1;33m\u001b[0m\u001b[0m\n\u001b[0;32m     40\u001b[0m \u001b[1;33m\u001b[0m\u001b[0m\n\u001b[1;32m---> 41\u001b[1;33m \u001b[1;32mfrom\u001b[0m \u001b[0mtensorflow\u001b[0m\u001b[1;33m.\u001b[0m\u001b[0mpython\u001b[0m\u001b[1;33m.\u001b[0m\u001b[0mtools\u001b[0m \u001b[1;32mimport\u001b[0m \u001b[0mmodule_util\u001b[0m \u001b[1;32mas\u001b[0m \u001b[0m_module_util\u001b[0m\u001b[1;33m\u001b[0m\u001b[1;33m\u001b[0m\u001b[0m\n\u001b[0m\u001b[0;32m     42\u001b[0m \u001b[1;32mfrom\u001b[0m \u001b[0mtensorflow\u001b[0m\u001b[1;33m.\u001b[0m\u001b[0mpython\u001b[0m\u001b[1;33m.\u001b[0m\u001b[0mutil\u001b[0m\u001b[1;33m.\u001b[0m\u001b[0mlazy_loader\u001b[0m \u001b[1;32mimport\u001b[0m \u001b[0mLazyLoader\u001b[0m \u001b[1;32mas\u001b[0m \u001b[0m_LazyLoader\u001b[0m\u001b[1;33m\u001b[0m\u001b[1;33m\u001b[0m\u001b[0m\n\u001b[0;32m     43\u001b[0m \u001b[1;33m\u001b[0m\u001b[0m\n",
      "\u001b[1;32m~\\AppData\\Roaming\\Python\\Python38\\site-packages\\tensorflow\\python\\__init__.py\u001b[0m in \u001b[0;36m<module>\u001b[1;34m\u001b[0m\n\u001b[0;32m     39\u001b[0m \u001b[1;32mfrom\u001b[0m \u001b[0mtensorflow\u001b[0m\u001b[1;33m.\u001b[0m\u001b[0mpython\u001b[0m \u001b[1;32mimport\u001b[0m \u001b[0mpywrap_tensorflow\u001b[0m \u001b[1;32mas\u001b[0m \u001b[0m_pywrap_tensorflow\u001b[0m\u001b[1;33m\u001b[0m\u001b[1;33m\u001b[0m\u001b[0m\n\u001b[0;32m     40\u001b[0m \u001b[1;33m\u001b[0m\u001b[0m\n\u001b[1;32m---> 41\u001b[1;33m \u001b[1;32mfrom\u001b[0m \u001b[0mtensorflow\u001b[0m\u001b[1;33m.\u001b[0m\u001b[0mpython\u001b[0m\u001b[1;33m.\u001b[0m\u001b[0meager\u001b[0m \u001b[1;32mimport\u001b[0m \u001b[0mcontext\u001b[0m\u001b[1;33m\u001b[0m\u001b[1;33m\u001b[0m\u001b[0m\n\u001b[0m\u001b[0;32m     42\u001b[0m \u001b[1;33m\u001b[0m\u001b[0m\n\u001b[0;32m     43\u001b[0m \u001b[1;31m# pylint: enable=wildcard-import\u001b[0m\u001b[1;33m\u001b[0m\u001b[1;33m\u001b[0m\u001b[1;33m\u001b[0m\u001b[0m\n",
      "\u001b[1;32m~\\AppData\\Roaming\\Python\\Python38\\site-packages\\tensorflow\\python\\eager\\context.py\u001b[0m in \u001b[0;36m<module>\u001b[1;34m\u001b[0m\n\u001b[0;32m     26\u001b[0m \u001b[1;32mimport\u001b[0m \u001b[0mthreading\u001b[0m\u001b[1;33m\u001b[0m\u001b[1;33m\u001b[0m\u001b[0m\n\u001b[0;32m     27\u001b[0m \u001b[1;33m\u001b[0m\u001b[0m\n\u001b[1;32m---> 28\u001b[1;33m \u001b[1;32mfrom\u001b[0m \u001b[0mabsl\u001b[0m \u001b[1;32mimport\u001b[0m \u001b[0mlogging\u001b[0m\u001b[1;33m\u001b[0m\u001b[1;33m\u001b[0m\u001b[0m\n\u001b[0m\u001b[0;32m     29\u001b[0m \u001b[1;32mimport\u001b[0m \u001b[0mnumpy\u001b[0m \u001b[1;32mas\u001b[0m \u001b[0mnp\u001b[0m\u001b[1;33m\u001b[0m\u001b[1;33m\u001b[0m\u001b[0m\n\u001b[0;32m     30\u001b[0m \u001b[1;32mimport\u001b[0m \u001b[0msix\u001b[0m\u001b[1;33m\u001b[0m\u001b[1;33m\u001b[0m\u001b[0m\n",
      "\u001b[1;31mModuleNotFoundError\u001b[0m: No module named 'absl'"
     ]
    }
   ],
   "source": [
    "import tensorflow as tf"
   ]
  },
  {
   "cell_type": "code",
   "execution_count": 2,
   "metadata": {},
   "outputs": [],
   "source": [
    "import numpy as np\n",
    "import pandas as pd\n",
    "from sklearn.model_selection import train_test_split"
   ]
  },
  {
   "cell_type": "code",
   "execution_count": 9,
   "metadata": {},
   "outputs": [],
   "source": [
    "from sklearn.metrics import confusion_matrix"
   ]
  },
  {
   "cell_type": "code",
   "execution_count": 10,
   "metadata": {},
   "outputs": [
    {
     "data": {
      "text/html": [
       "<div>\n",
       "<style scoped>\n",
       "    .dataframe tbody tr th:only-of-type {\n",
       "        vertical-align: middle;\n",
       "    }\n",
       "\n",
       "    .dataframe tbody tr th {\n",
       "        vertical-align: top;\n",
       "    }\n",
       "\n",
       "    .dataframe thead th {\n",
       "        text-align: right;\n",
       "    }\n",
       "</style>\n",
       "<table border=\"1\" class=\"dataframe\">\n",
       "  <thead>\n",
       "    <tr style=\"text-align: right;\">\n",
       "      <th></th>\n",
       "      <th>0</th>\n",
       "      <th>1</th>\n",
       "      <th>2</th>\n",
       "      <th>3</th>\n",
       "      <th>4</th>\n",
       "      <th>5</th>\n",
       "      <th>6</th>\n",
       "      <th>7</th>\n",
       "      <th>8</th>\n",
       "      <th>9</th>\n",
       "      <th>10</th>\n",
       "      <th>11</th>\n",
       "      <th>12</th>\n",
       "    </tr>\n",
       "  </thead>\n",
       "  <tbody>\n",
       "    <tr>\n",
       "      <th>0</th>\n",
       "      <td>NaN</td>\n",
       "      <td>city_development_index</td>\n",
       "      <td>training_hours</td>\n",
       "      <td>eduLevel</td>\n",
       "      <td>exp</td>\n",
       "      <td>lastNewJob</td>\n",
       "      <td>fromSTEM</td>\n",
       "      <td>enrollType</td>\n",
       "      <td>relExp</td>\n",
       "      <td>gender_Female</td>\n",
       "      <td>gender_Male</td>\n",
       "      <td>gender_Other</td>\n",
       "      <td>city_labels</td>\n",
       "    </tr>\n",
       "    <tr>\n",
       "      <th>1</th>\n",
       "      <td>0.0</td>\n",
       "      <td>0.92</td>\n",
       "      <td>0.1044776119402985</td>\n",
       "      <td>0.5</td>\n",
       "      <td>1.0</td>\n",
       "      <td>0.16666666666666666</td>\n",
       "      <td>1</td>\n",
       "      <td>0</td>\n",
       "      <td>1</td>\n",
       "      <td>0</td>\n",
       "      <td>1</td>\n",
       "      <td>0</td>\n",
       "      <td>5</td>\n",
       "    </tr>\n",
       "    <tr>\n",
       "      <th>2</th>\n",
       "      <td>1.0</td>\n",
       "      <td>0.7759999999999999</td>\n",
       "      <td>0.1373134328358209</td>\n",
       "      <td>0.5</td>\n",
       "      <td>0.6</td>\n",
       "      <td>1.0</td>\n",
       "      <td>1</td>\n",
       "      <td>0</td>\n",
       "      <td>0</td>\n",
       "      <td>0</td>\n",
       "      <td>1</td>\n",
       "      <td>0</td>\n",
       "      <td>77</td>\n",
       "    </tr>\n",
       "    <tr>\n",
       "      <th>3</th>\n",
       "      <td>2.0</td>\n",
       "      <td>0.624</td>\n",
       "      <td>0.24477611940298508</td>\n",
       "      <td>0.5</td>\n",
       "      <td>0.2</td>\n",
       "      <td>0.0</td>\n",
       "      <td>1</td>\n",
       "      <td>2</td>\n",
       "      <td>0</td>\n",
       "      <td>0</td>\n",
       "      <td>1</td>\n",
       "      <td>0</td>\n",
       "      <td>64</td>\n",
       "    </tr>\n",
       "    <tr>\n",
       "      <th>4</th>\n",
       "      <td>3.0</td>\n",
       "      <td>0.789</td>\n",
       "      <td>0.15223880597014924</td>\n",
       "      <td>0.5</td>\n",
       "      <td>0.0</td>\n",
       "      <td>0.0</td>\n",
       "      <td>0</td>\n",
       "      <td>0</td>\n",
       "      <td>0</td>\n",
       "      <td>0</td>\n",
       "      <td>1</td>\n",
       "      <td>0</td>\n",
       "      <td>14</td>\n",
       "    </tr>\n",
       "  </tbody>\n",
       "</table>\n",
       "</div>"
      ],
      "text/plain": [
       "    0                       1                    2         3    4   \\\n",
       "0  NaN  city_development_index       training_hours  eduLevel  exp   \n",
       "1  0.0                    0.92   0.1044776119402985       0.5  1.0   \n",
       "2  1.0      0.7759999999999999   0.1373134328358209       0.5  0.6   \n",
       "3  2.0                   0.624  0.24477611940298508       0.5  0.2   \n",
       "4  3.0                   0.789  0.15223880597014924       0.5  0.0   \n",
       "\n",
       "                    5         6           7       8              9   \\\n",
       "0           lastNewJob  fromSTEM  enrollType  relExp  gender_Female   \n",
       "1  0.16666666666666666         1           0       1              0   \n",
       "2                  1.0         1           0       0              0   \n",
       "3                  0.0         1           2       0              0   \n",
       "4                  0.0         0           0       0              0   \n",
       "\n",
       "            10            11           12  \n",
       "0  gender_Male  gender_Other  city_labels  \n",
       "1            1             0            5  \n",
       "2            1             0           77  \n",
       "3            1             0           64  \n",
       "4            1             0           14  "
      ]
     },
     "execution_count": 10,
     "metadata": {},
     "output_type": "execute_result"
    }
   ],
   "source": [
    "data = pd.read_csv('trainX2.csv', header = None)\n",
    "data.head()"
   ]
  },
  {
   "cell_type": "code",
   "execution_count": 11,
   "metadata": {},
   "outputs": [
    {
     "data": {
      "text/html": [
       "<div>\n",
       "<style scoped>\n",
       "    .dataframe tbody tr th:only-of-type {\n",
       "        vertical-align: middle;\n",
       "    }\n",
       "\n",
       "    .dataframe tbody tr th {\n",
       "        vertical-align: top;\n",
       "    }\n",
       "\n",
       "    .dataframe thead th {\n",
       "        text-align: right;\n",
       "    }\n",
       "</style>\n",
       "<table border=\"1\" class=\"dataframe\">\n",
       "  <thead>\n",
       "    <tr style=\"text-align: right;\">\n",
       "      <th></th>\n",
       "      <th>1</th>\n",
       "      <th>2</th>\n",
       "      <th>3</th>\n",
       "      <th>4</th>\n",
       "      <th>5</th>\n",
       "      <th>6</th>\n",
       "      <th>7</th>\n",
       "      <th>8</th>\n",
       "      <th>9</th>\n",
       "      <th>10</th>\n",
       "      <th>11</th>\n",
       "      <th>12</th>\n",
       "    </tr>\n",
       "  </thead>\n",
       "  <tbody>\n",
       "    <tr>\n",
       "      <th>0</th>\n",
       "      <td>city_development_index</td>\n",
       "      <td>training_hours</td>\n",
       "      <td>eduLevel</td>\n",
       "      <td>exp</td>\n",
       "      <td>lastNewJob</td>\n",
       "      <td>fromSTEM</td>\n",
       "      <td>enrollType</td>\n",
       "      <td>relExp</td>\n",
       "      <td>gender_Female</td>\n",
       "      <td>gender_Male</td>\n",
       "      <td>gender_Other</td>\n",
       "      <td>city_labels</td>\n",
       "    </tr>\n",
       "    <tr>\n",
       "      <th>1</th>\n",
       "      <td>0.92</td>\n",
       "      <td>0.1044776119402985</td>\n",
       "      <td>0.5</td>\n",
       "      <td>1.0</td>\n",
       "      <td>0.16666666666666666</td>\n",
       "      <td>1</td>\n",
       "      <td>0</td>\n",
       "      <td>1</td>\n",
       "      <td>0</td>\n",
       "      <td>1</td>\n",
       "      <td>0</td>\n",
       "      <td>5</td>\n",
       "    </tr>\n",
       "    <tr>\n",
       "      <th>2</th>\n",
       "      <td>0.7759999999999999</td>\n",
       "      <td>0.1373134328358209</td>\n",
       "      <td>0.5</td>\n",
       "      <td>0.6</td>\n",
       "      <td>1.0</td>\n",
       "      <td>1</td>\n",
       "      <td>0</td>\n",
       "      <td>0</td>\n",
       "      <td>0</td>\n",
       "      <td>1</td>\n",
       "      <td>0</td>\n",
       "      <td>77</td>\n",
       "    </tr>\n",
       "    <tr>\n",
       "      <th>3</th>\n",
       "      <td>0.624</td>\n",
       "      <td>0.24477611940298508</td>\n",
       "      <td>0.5</td>\n",
       "      <td>0.2</td>\n",
       "      <td>0.0</td>\n",
       "      <td>1</td>\n",
       "      <td>2</td>\n",
       "      <td>0</td>\n",
       "      <td>0</td>\n",
       "      <td>1</td>\n",
       "      <td>0</td>\n",
       "      <td>64</td>\n",
       "    </tr>\n",
       "    <tr>\n",
       "      <th>4</th>\n",
       "      <td>0.789</td>\n",
       "      <td>0.15223880597014924</td>\n",
       "      <td>0.5</td>\n",
       "      <td>0.0</td>\n",
       "      <td>0.0</td>\n",
       "      <td>0</td>\n",
       "      <td>0</td>\n",
       "      <td>0</td>\n",
       "      <td>0</td>\n",
       "      <td>1</td>\n",
       "      <td>0</td>\n",
       "      <td>14</td>\n",
       "    </tr>\n",
       "  </tbody>\n",
       "</table>\n",
       "</div>"
      ],
      "text/plain": [
       "                       1                    2         3    4   \\\n",
       "0  city_development_index       training_hours  eduLevel  exp   \n",
       "1                    0.92   0.1044776119402985       0.5  1.0   \n",
       "2      0.7759999999999999   0.1373134328358209       0.5  0.6   \n",
       "3                   0.624  0.24477611940298508       0.5  0.2   \n",
       "4                   0.789  0.15223880597014924       0.5  0.0   \n",
       "\n",
       "                    5         6           7       8              9   \\\n",
       "0           lastNewJob  fromSTEM  enrollType  relExp  gender_Female   \n",
       "1  0.16666666666666666         1           0       1              0   \n",
       "2                  1.0         1           0       0              0   \n",
       "3                  0.0         1           2       0              0   \n",
       "4                  0.0         0           0       0              0   \n",
       "\n",
       "            10            11           12  \n",
       "0  gender_Male  gender_Other  city_labels  \n",
       "1            1             0            5  \n",
       "2            1             0           77  \n",
       "3            1             0           64  \n",
       "4            1             0           14  "
      ]
     },
     "execution_count": 11,
     "metadata": {},
     "output_type": "execute_result"
    }
   ],
   "source": [
    "data.drop(data.columns[[0]], inplace = True, axis = 1)\n",
    "data.head()"
   ]
  },
  {
   "cell_type": "code",
   "execution_count": 12,
   "metadata": {},
   "outputs": [],
   "source": [
    "data = data.iloc[1:]"
   ]
  },
  {
   "cell_type": "code",
   "execution_count": 13,
   "metadata": {},
   "outputs": [],
   "source": [
    "X = data.to_numpy(dtype='float32')"
   ]
  },
  {
   "cell_type": "code",
   "execution_count": 14,
   "metadata": {},
   "outputs": [
    {
     "data": {
      "text/plain": [
       "(28762, 12)"
      ]
     },
     "execution_count": 14,
     "metadata": {},
     "output_type": "execute_result"
    }
   ],
   "source": [
    "X.shape"
   ]
  },
  {
   "cell_type": "code",
   "execution_count": 15,
   "metadata": {},
   "outputs": [
    {
     "data": {
      "text/html": [
       "<div>\n",
       "<style scoped>\n",
       "    .dataframe tbody tr th:only-of-type {\n",
       "        vertical-align: middle;\n",
       "    }\n",
       "\n",
       "    .dataframe tbody tr th {\n",
       "        vertical-align: top;\n",
       "    }\n",
       "\n",
       "    .dataframe thead th {\n",
       "        text-align: right;\n",
       "    }\n",
       "</style>\n",
       "<table border=\"1\" class=\"dataframe\">\n",
       "  <thead>\n",
       "    <tr style=\"text-align: right;\">\n",
       "      <th></th>\n",
       "      <th>0</th>\n",
       "      <th>1</th>\n",
       "    </tr>\n",
       "  </thead>\n",
       "  <tbody>\n",
       "    <tr>\n",
       "      <th>0</th>\n",
       "      <td>NaN</td>\n",
       "      <td>target</td>\n",
       "    </tr>\n",
       "    <tr>\n",
       "      <th>1</th>\n",
       "      <td>0.0</td>\n",
       "      <td>1.0</td>\n",
       "    </tr>\n",
       "    <tr>\n",
       "      <th>2</th>\n",
       "      <td>1.0</td>\n",
       "      <td>0.0</td>\n",
       "    </tr>\n",
       "    <tr>\n",
       "      <th>3</th>\n",
       "      <td>2.0</td>\n",
       "      <td>0.0</td>\n",
       "    </tr>\n",
       "    <tr>\n",
       "      <th>4</th>\n",
       "      <td>3.0</td>\n",
       "      <td>1.0</td>\n",
       "    </tr>\n",
       "  </tbody>\n",
       "</table>\n",
       "</div>"
      ],
      "text/plain": [
       "     0       1\n",
       "0  NaN  target\n",
       "1  0.0     1.0\n",
       "2  1.0     0.0\n",
       "3  2.0     0.0\n",
       "4  3.0     1.0"
      ]
     },
     "execution_count": 15,
     "metadata": {},
     "output_type": "execute_result"
    }
   ],
   "source": [
    "output = pd.read_csv('trainY2.csv', header = None)\n",
    "output.head()"
   ]
  },
  {
   "cell_type": "code",
   "execution_count": 16,
   "metadata": {},
   "outputs": [
    {
     "data": {
      "text/html": [
       "<div>\n",
       "<style scoped>\n",
       "    .dataframe tbody tr th:only-of-type {\n",
       "        vertical-align: middle;\n",
       "    }\n",
       "\n",
       "    .dataframe tbody tr th {\n",
       "        vertical-align: top;\n",
       "    }\n",
       "\n",
       "    .dataframe thead th {\n",
       "        text-align: right;\n",
       "    }\n",
       "</style>\n",
       "<table border=\"1\" class=\"dataframe\">\n",
       "  <thead>\n",
       "    <tr style=\"text-align: right;\">\n",
       "      <th></th>\n",
       "      <th>1</th>\n",
       "    </tr>\n",
       "  </thead>\n",
       "  <tbody>\n",
       "    <tr>\n",
       "      <th>0</th>\n",
       "      <td>target</td>\n",
       "    </tr>\n",
       "    <tr>\n",
       "      <th>1</th>\n",
       "      <td>1.0</td>\n",
       "    </tr>\n",
       "    <tr>\n",
       "      <th>2</th>\n",
       "      <td>0.0</td>\n",
       "    </tr>\n",
       "    <tr>\n",
       "      <th>3</th>\n",
       "      <td>0.0</td>\n",
       "    </tr>\n",
       "    <tr>\n",
       "      <th>4</th>\n",
       "      <td>1.0</td>\n",
       "    </tr>\n",
       "  </tbody>\n",
       "</table>\n",
       "</div>"
      ],
      "text/plain": [
       "        1\n",
       "0  target\n",
       "1     1.0\n",
       "2     0.0\n",
       "3     0.0\n",
       "4     1.0"
      ]
     },
     "execution_count": 16,
     "metadata": {},
     "output_type": "execute_result"
    }
   ],
   "source": [
    "output.drop(output.columns[[0]], inplace = True, axis = 1)\n",
    "output.head()"
   ]
  },
  {
   "cell_type": "code",
   "execution_count": 17,
   "metadata": {},
   "outputs": [],
   "source": [
    "output = output.iloc[1:]"
   ]
  },
  {
   "cell_type": "code",
   "execution_count": 18,
   "metadata": {},
   "outputs": [],
   "source": [
    "y = output.to_numpy(dtype='float32')"
   ]
  },
  {
   "cell_type": "code",
   "execution_count": 19,
   "metadata": {},
   "outputs": [
    {
     "data": {
      "text/plain": [
       "array([[1.],\n",
       "       [0.],\n",
       "       [0.],\n",
       "       ...,\n",
       "       [1.],\n",
       "       [1.],\n",
       "       [1.]], dtype=float32)"
      ]
     },
     "execution_count": 19,
     "metadata": {},
     "output_type": "execute_result"
    }
   ],
   "source": [
    "y"
   ]
  },
  {
   "cell_type": "markdown",
   "metadata": {},
   "source": [
    "<h3> Splitting the data in test and train data(helps us evaluate the algorithm performance better) </h3>"
   ]
  },
  {
   "cell_type": "code",
   "execution_count": 20,
   "metadata": {},
   "outputs": [],
   "source": [
    "X_train, X_test, y_train, y_test = train_test_split(X, y, test_size=0.20, random_state=42)"
   ]
  },
  {
   "cell_type": "markdown",
   "metadata": {},
   "source": [
    "<h3> Trying the decision tree classifier on the data </h3>"
   ]
  },
  {
   "cell_type": "code",
   "execution_count": 15,
   "metadata": {},
   "outputs": [
    {
     "data": {
      "text/plain": [
       "DecisionTreeClassifier()"
      ]
     },
     "execution_count": 15,
     "metadata": {},
     "output_type": "execute_result"
    }
   ],
   "source": [
    "from sklearn.tree import DecisionTreeClassifier\n",
    "classifier = DecisionTreeClassifier()\n",
    "classifier.fit(X_train, y_train)"
   ]
  },
  {
   "cell_type": "code",
   "execution_count": 16,
   "metadata": {},
   "outputs": [],
   "source": [
    "y_pred = classifier.predict(X_test)"
   ]
  },
  {
   "cell_type": "code",
   "execution_count": 17,
   "metadata": {},
   "outputs": [
    {
     "name": "stdout",
     "output_type": "stream",
     "text": [
      "[[2150  727]\n",
      " [ 676 2200]]\n",
      "              precision    recall  f1-score   support\n",
      "\n",
      "         0.0       0.76      0.75      0.75      2877\n",
      "         1.0       0.75      0.76      0.76      2876\n",
      "\n",
      "    accuracy                           0.76      5753\n",
      "   macro avg       0.76      0.76      0.76      5753\n",
      "weighted avg       0.76      0.76      0.76      5753\n",
      "\n"
     ]
    }
   ],
   "source": [
    "from sklearn.metrics import classification_report, confusion_matrix\n",
    "print(confusion_matrix(y_test, y_pred))\n",
    "print(classification_report(y_test, y_pred))"
   ]
  },
  {
   "cell_type": "markdown",
   "metadata": {},
   "source": [
    "<h3> Trying the neural networks on the data </h3>"
   ]
  },
  {
   "cell_type": "code",
   "execution_count": 18,
   "metadata": {},
   "outputs": [],
   "source": [
    "model = tf.keras.models.Sequential([\n",
    "  tf.keras.layers.Dense(254, input_shape=(11,)),\n",
    "  tf.keras.layers.Dense(254, activation=tf.nn.relu),\n",
    "  tf.keras.layers.Dense(1, activation='sigmoid')\n",
    "])"
   ]
  },
  {
   "cell_type": "code",
   "execution_count": 19,
   "metadata": {},
   "outputs": [],
   "source": [
    "model.compile(optimizer='adam',\n",
    "              loss='binary_crossentropy',\n",
    "              metrics=['accuracy'])"
   ]
  },
  {
   "cell_type": "code",
   "execution_count": 20,
   "metadata": {},
   "outputs": [
    {
     "name": "stdout",
     "output_type": "stream",
     "text": [
      "Epoch 1/5\n",
      "648/648 [==============================] - 15s 18ms/step - loss: 0.6450 - accuracy: 0.6369 - val_loss: 0.6018 - val_accuracy: 0.7019\n",
      "Epoch 2/5\n",
      "648/648 [==============================] - 2s 4ms/step - loss: 0.6061 - accuracy: 0.6949 - val_loss: 0.5991 - val_accuracy: 0.7027\n",
      "Epoch 3/5\n",
      "648/648 [==============================] - 2s 3ms/step - loss: 0.5962 - accuracy: 0.6977 - val_loss: 0.5900 - val_accuracy: 0.7032\n",
      "Epoch 4/5\n",
      "648/648 [==============================] - 3s 5ms/step - loss: 0.5943 - accuracy: 0.6992 - val_loss: 0.5946 - val_accuracy: 0.7032\n",
      "Epoch 5/5\n",
      "648/648 [==============================] - 2s 4ms/step - loss: 0.5928 - accuracy: 0.6969 - val_loss: 0.5894 - val_accuracy: 0.7110\n"
     ]
    }
   ],
   "source": [
    "history = model.fit(X_train,y_train, validation_split=0.10, epochs=5)"
   ]
  },
  {
   "cell_type": "markdown",
   "metadata": {},
   "source": [
    "<h3> Trying some more architectures </h3>"
   ]
  },
  {
   "cell_type": "code",
   "execution_count": 21,
   "metadata": {},
   "outputs": [],
   "source": [
    "model = tf.keras.models.Sequential([\n",
    "  tf.keras.layers.Dense(70, input_shape=(11,)),\n",
    "  tf.keras.layers.Dense(90, activation=tf.nn.relu),\n",
    "  tf.keras.layers.Dense(90, activation=tf.nn.relu),\n",
    "  tf.keras.layers.Dense(90, activation=tf.nn.relu),\n",
    "  tf.keras.layers.Dense(70, activation=tf.nn.relu),\n",
    "  tf.keras.layers.Dense(1, activation='sigmoid')\n",
    "])"
   ]
  },
  {
   "cell_type": "code",
   "execution_count": 22,
   "metadata": {},
   "outputs": [],
   "source": [
    "model.compile(optimizer='adam',\n",
    "              loss='binary_crossentropy',\n",
    "              metrics=['accuracy'])"
   ]
  },
  {
   "cell_type": "code",
   "execution_count": 23,
   "metadata": {},
   "outputs": [
    {
     "name": "stdout",
     "output_type": "stream",
     "text": [
      "Epoch 1/30\n",
      "648/648 [==============================] - 4s 4ms/step - loss: 0.6529 - accuracy: 0.6214 - val_loss: 0.5989 - val_accuracy: 0.7006\n",
      "Epoch 2/30\n",
      "648/648 [==============================] - 4s 6ms/step - loss: 0.6055 - accuracy: 0.6895 - val_loss: 0.5951 - val_accuracy: 0.6997\n",
      "Epoch 3/30\n",
      "648/648 [==============================] - 2s 3ms/step - loss: 0.6018 - accuracy: 0.6922 - val_loss: 0.6033 - val_accuracy: 0.7014\n",
      "Epoch 4/30\n",
      "648/648 [==============================] - 2s 3ms/step - loss: 0.5975 - accuracy: 0.6972 - val_loss: 0.5960 - val_accuracy: 0.6975\n",
      "Epoch 5/30\n",
      "648/648 [==============================] - 3s 5ms/step - loss: 0.5981 - accuracy: 0.6996 - val_loss: 0.5876 - val_accuracy: 0.7071\n",
      "Epoch 6/30\n",
      "648/648 [==============================] - 2s 3ms/step - loss: 0.5927 - accuracy: 0.7012 - val_loss: 0.5882 - val_accuracy: 0.7049\n",
      "Epoch 7/30\n",
      "648/648 [==============================] - 3s 4ms/step - loss: 0.5916 - accuracy: 0.7004 - val_loss: 0.5836 - val_accuracy: 0.7097\n",
      "Epoch 8/30\n",
      "648/648 [==============================] - 2s 3ms/step - loss: 0.5904 - accuracy: 0.7018 - val_loss: 0.5856 - val_accuracy: 0.7036\n",
      "Epoch 9/30\n",
      "648/648 [==============================] - 2s 3ms/step - loss: 0.5874 - accuracy: 0.7034 - val_loss: 0.5823 - val_accuracy: 0.7088\n",
      "Epoch 10/30\n",
      "648/648 [==============================] - 3s 5ms/step - loss: 0.5890 - accuracy: 0.7030 - val_loss: 0.5889 - val_accuracy: 0.7036\n",
      "Epoch 11/30\n",
      "648/648 [==============================] - 2s 4ms/step - loss: 0.5868 - accuracy: 0.7075 - val_loss: 0.5886 - val_accuracy: 0.7027\n",
      "Epoch 12/30\n",
      "648/648 [==============================] - 3s 4ms/step - loss: 0.5804 - accuracy: 0.7078 - val_loss: 0.5828 - val_accuracy: 0.7071\n",
      "Epoch 13/30\n",
      "648/648 [==============================] - 2s 4ms/step - loss: 0.5792 - accuracy: 0.7079 - val_loss: 0.5879 - val_accuracy: 0.7075\n",
      "Epoch 14/30\n",
      "648/648 [==============================] - 3s 4ms/step - loss: 0.5817 - accuracy: 0.7076 - val_loss: 0.5813 - val_accuracy: 0.7084\n",
      "Epoch 15/30\n",
      "648/648 [==============================] - 3s 4ms/step - loss: 0.5805 - accuracy: 0.7082 - val_loss: 0.5795 - val_accuracy: 0.7053\n",
      "Epoch 16/30\n",
      "648/648 [==============================] - 3s 5ms/step - loss: 0.5780 - accuracy: 0.7100 - val_loss: 0.5791 - val_accuracy: 0.7110\n",
      "Epoch 17/30\n",
      "648/648 [==============================] - 4s 6ms/step - loss: 0.5779 - accuracy: 0.7097 - val_loss: 0.5794 - val_accuracy: 0.7123\n",
      "Epoch 18/30\n",
      "648/648 [==============================] - 2s 4ms/step - loss: 0.5687 - accuracy: 0.7192 - val_loss: 0.5780 - val_accuracy: 0.7080\n",
      "Epoch 19/30\n",
      "648/648 [==============================] - 6s 10ms/step - loss: 0.5756 - accuracy: 0.7112 - val_loss: 0.5852 - val_accuracy: 0.7114: 0.5758 - accuracy: 0.71 - ETA: 0s - loss: 0.5758 - accuracy: 0. - ETA: 0s - loss: 0.5758 - accuracy: 0.71 - ETA: 0s - loss: 0.5758 - ac\n",
      "Epoch 20/30\n",
      "648/648 [==============================] - 13s 20ms/step - loss: 0.5701 - accuracy: 0.7123 - val_loss: 0.5843 - val_accuracy: 0.7101 0.5645 - accuracy: 0 - ETA: 12s - - ETA: 13s - l - ETA: 12s - loss: 0.5696 - accuracy: - ETA: 12s - loss: 0.56\n",
      "Epoch 21/30\n",
      "648/648 [==============================] - 3s 4ms/step - loss: 0.5585 - accuracy: 0.7217 - val_loss: 0.5753 - val_accuracy: 0.7084\n",
      "Epoch 22/30\n",
      "648/648 [==============================] - 3s 5ms/step - loss: 0.5584 - accuracy: 0.7198 - val_loss: 0.5758 - val_accuracy: 0.7014\n",
      "Epoch 23/30\n",
      "648/648 [==============================] - 2s 3ms/step - loss: 0.5619 - accuracy: 0.7200 - val_loss: 0.5798 - val_accuracy: 0.7127\n",
      "Epoch 24/30\n",
      "648/648 [==============================] - 2s 4ms/step - loss: 0.5555 - accuracy: 0.7218 - val_loss: 0.5766 - val_accuracy: 0.7058\n",
      "Epoch 25/30\n",
      "648/648 [==============================] - 3s 4ms/step - loss: 0.5584 - accuracy: 0.7166 - val_loss: 0.5740 - val_accuracy: 0.7062\n",
      "Epoch 26/30\n",
      "648/648 [==============================] - 3s 4ms/step - loss: 0.5538 - accuracy: 0.7198 - val_loss: 0.5825 - val_accuracy: 0.7006\n",
      "Epoch 27/30\n",
      "648/648 [==============================] - 16s 24ms/step - loss: 0.5518 - accuracy: 0.7256 - val_loss: 0.5747 - val_accuracy: 0.7114A: 17s - loss: 0.5544 - accu - ETA: 20s - loss: 0.5525 - accuracy: 0.7 - ETA: 21s - loss: 0.5524 - accuracy: - ETA: 20s - loss: 0.5504 - accuracy: 0. - ETA: 20s - loss: 0.5503 - accura - ETA: 20s - loss: 0.5499 - accuracy: 0 - ETA: 20s - loss: 0.5497 - accuracy: 0 - ETA: 20s - loss: 0.5495 - acc - E\n",
      "Epoch 28/30\n",
      "648/648 [==============================] - 3s 5ms/step - loss: 0.5502 - accuracy: 0.7291 - val_loss: 0.5884 - val_accuracy: 0.7062\n",
      "Epoch 29/30\n",
      "648/648 [==============================] - 2s 3ms/step - loss: 0.5452 - accuracy: 0.7277 - val_loss: 0.5825 - val_accuracy: 0.7066\n",
      "Epoch 30/30\n",
      "648/648 [==============================] - 3s 4ms/step - loss: 0.5426 - accuracy: 0.7293 - val_loss: 0.5818 - val_accuracy: 0.7023\n"
     ]
    }
   ],
   "source": [
    "history = model.fit(X_train,y_train, validation_split=0.1, epochs=30)"
   ]
  },
  {
   "cell_type": "code",
   "execution_count": 24,
   "metadata": {},
   "outputs": [],
   "source": [
    "model = tf.keras.models.Sequential([\n",
    "  tf.keras.layers.Dense(70, input_shape=(11,)),\n",
    "  tf.keras.layers.Dense(90, activation=tf.nn.relu),\n",
    "  tf.keras.layers.Dense(90, activation=tf.nn.relu),\n",
    "  tf.keras.layers.Dense(90, activation=tf.nn.relu),\n",
    "  tf.keras.layers.Dense(90, activation=tf.nn.relu),\n",
    "  tf.keras.layers.Dense(70, activation=tf.nn.relu),\n",
    "  tf.keras.layers.Dense(1, activation='sigmoid')\n",
    "])"
   ]
  },
  {
   "cell_type": "code",
   "execution_count": 25,
   "metadata": {},
   "outputs": [],
   "source": [
    "model.compile(optimizer='adam',\n",
    "              loss='binary_crossentropy',\n",
    "              metrics=['accuracy'])"
   ]
  },
  {
   "cell_type": "code",
   "execution_count": 26,
   "metadata": {},
   "outputs": [
    {
     "name": "stdout",
     "output_type": "stream",
     "text": [
      "Epoch 1/30\n",
      "648/648 [==============================] - 4s 4ms/step - loss: 0.6425 - accuracy: 0.6385 - val_loss: 0.6041 - val_accuracy: 0.6940\n",
      "Epoch 2/30\n",
      "648/648 [==============================] - 3s 5ms/step - loss: 0.6070 - accuracy: 0.6882 - val_loss: 0.5875 - val_accuracy: 0.7080\n",
      "Epoch 3/30\n",
      "648/648 [==============================] - 2s 4ms/step - loss: 0.5981 - accuracy: 0.6971 - val_loss: 0.5929 - val_accuracy: 0.7032\n",
      "Epoch 4/30\n",
      "648/648 [==============================] - 2s 4ms/step - loss: 0.6034 - accuracy: 0.6936 - val_loss: 0.6009 - val_accuracy: 0.7006\n",
      "Epoch 5/30\n",
      "648/648 [==============================] - 3s 4ms/step - loss: 0.5974 - accuracy: 0.6920 - val_loss: 0.5922 - val_accuracy: 0.7023\n",
      "Epoch 6/30\n",
      "648/648 [==============================] - 2s 3ms/step - loss: 0.5972 - accuracy: 0.6968 - val_loss: 0.5865 - val_accuracy: 0.7049\n",
      "Epoch 7/30\n",
      "648/648 [==============================] - 3s 4ms/step - loss: 0.5904 - accuracy: 0.7020 - val_loss: 0.5877 - val_accuracy: 0.7036\n",
      "Epoch 8/30\n",
      "648/648 [==============================] - 2s 3ms/step - loss: 0.5900 - accuracy: 0.7020 - val_loss: 0.5884 - val_accuracy: 0.6997\n",
      "Epoch 9/30\n",
      "648/648 [==============================] - 3s 4ms/step - loss: 0.5873 - accuracy: 0.7049 - val_loss: 0.5934 - val_accuracy: 0.7036\n",
      "Epoch 10/30\n",
      "648/648 [==============================] - 3s 5ms/step - loss: 0.5887 - accuracy: 0.6996 - val_loss: 0.5804 - val_accuracy: 0.7162\n",
      "Epoch 11/30\n",
      "648/648 [==============================] - 3s 4ms/step - loss: 0.5782 - accuracy: 0.7115 - val_loss: 0.5793 - val_accuracy: 0.7140\n",
      "Epoch 12/30\n",
      "648/648 [==============================] - 3s 5ms/step - loss: 0.5822 - accuracy: 0.7053 - val_loss: 0.5867 - val_accuracy: 0.7066\n",
      "Epoch 13/30\n",
      "648/648 [==============================] - 3s 4ms/step - loss: 0.5768 - accuracy: 0.7135 - val_loss: 0.5940 - val_accuracy: 0.7006\n",
      "Epoch 14/30\n",
      "648/648 [==============================] - 3s 5ms/step - loss: 0.5831 - accuracy: 0.7099 - val_loss: 0.5809 - val_accuracy: 0.7084\n",
      "Epoch 15/30\n",
      "648/648 [==============================] - 3s 4ms/step - loss: 0.5721 - accuracy: 0.7123 - val_loss: 0.5781 - val_accuracy: 0.7084\n",
      "Epoch 16/30\n",
      "648/648 [==============================] - 5s 7ms/step - loss: 0.5784 - accuracy: 0.7079 - val_loss: 0.5795 - val_accuracy: 0.7045\n",
      "Epoch 17/30\n",
      "648/648 [==============================] - 21s 32ms/step - loss: 0.5734 - accuracy: 0.7129 - val_loss: 0.5832 - val_accuracy: 0.7053: 16s - loss: 0.5781 - accuracy - ETA: 16s - loss: 0.5778 - accurac - ETA: 16s - loss: 0.5773 - accuracy: 0 - ETA: 16s - - ETA: 15s - loss: 0.5752 - accuracy: 0.71 - ETA: 15s - loss: 0.5752 - accuracy: 0 - ETA: 15s - loss: 0.5750 - accuracy: 0. - ETA: 15s - los - ETA: 7s - loss: 0 - ETA: 6s - los - ETA: 5s - loss: 0.5735  - ETA: \n",
      "Epoch 18/30\n",
      "648/648 [==============================] - 3s 4ms/step - loss: 0.5697 - accuracy: 0.7132 - val_loss: 0.5752 - val_accuracy: 0.7106\n",
      "Epoch 19/30\n",
      "648/648 [==============================] - 3s 4ms/step - loss: 0.5729 - accuracy: 0.7114 - val_loss: 0.5708 - val_accuracy: 0.7106\n",
      "Epoch 20/30\n",
      "648/648 [==============================] - 3s 5ms/step - loss: 0.5644 - accuracy: 0.7176 - val_loss: 0.5886 - val_accuracy: 0.6980\n",
      "Epoch 21/30\n",
      "648/648 [==============================] - 2s 4ms/step - loss: 0.5601 - accuracy: 0.7207 - val_loss: 0.5772 - val_accuracy: 0.7145\n",
      "Epoch 22/30\n",
      "648/648 [==============================] - 22s 34ms/step - loss: 0.5629 - accuracy: 0.7207 - val_loss: 0.5767 - val_accuracy: 0.7071\n",
      "Epoch 23/30\n",
      "648/648 [==============================] - 3s 5ms/step - loss: 0.5555 - accuracy: 0.7253 - val_loss: 0.5696 - val_accuracy: 0.7188\n",
      "Epoch 24/30\n",
      "648/648 [==============================] - 3s 4ms/step - loss: 0.5580 - accuracy: 0.7204 - val_loss: 0.5681 - val_accuracy: 0.7145\n",
      "Epoch 25/30\n",
      "648/648 [==============================] - 2s 4ms/step - loss: 0.5530 - accuracy: 0.7253 - val_loss: 0.5723 - val_accuracy: 0.7127\n",
      "Epoch 26/30\n",
      "648/648 [==============================] - 2s 3ms/step - loss: 0.5472 - accuracy: 0.7294 - val_loss: 0.5810 - val_accuracy: 0.7093\n",
      "Epoch 27/30\n",
      "648/648 [==============================] - 17s 27ms/step - loss: 0.5508 - accuracy: 0.7269 - val_loss: 0.5690 - val_accuracy: 0.7145s: - ETA: 3s - l - ETA: 3s - loss: 0.5510 - accuracy - ETA: 3s - loss: - ETA: 3s - loss: 0.5511 - accuracy:  - ETA - ETA: 0s - loss: 0.5508 - accuracy\n",
      "Epoch 28/30\n",
      "648/648 [==============================] - 9s 14ms/step - loss: 0.5408 - accuracy: 0.7346 - val_loss: 0.6053 - val_accuracy: 0.6884\n",
      "Epoch 29/30\n",
      "648/648 [==============================] - 2s 4ms/step - loss: 0.5484 - accuracy: 0.7223 - val_loss: 0.5741 - val_accuracy: 0.7197\n",
      "Epoch 30/30\n",
      "648/648 [==============================] - 3s 5ms/step - loss: 0.5344 - accuracy: 0.7385 - val_loss: 0.5703 - val_accuracy: 0.7149\n"
     ]
    }
   ],
   "source": [
    "history = model.fit(X_train,y_train, validation_split=0.1, epochs=30)"
   ]
  },
  {
   "cell_type": "code",
   "execution_count": 27,
   "metadata": {},
   "outputs": [
    {
     "name": "stdout",
     "output_type": "stream",
     "text": [
      "180/180 [==============================] - 0s 2ms/step - loss: 0.5833 - accuracy: 0.7097\n"
     ]
    },
    {
     "data": {
      "text/plain": [
       "{'loss': 0.5832502841949463, 'accuracy': 0.7097166776657104}"
      ]
     },
     "execution_count": 27,
     "metadata": {},
     "output_type": "execute_result"
    }
   ],
   "source": [
    "model.evaluate(X_test,y_test,verbose = 1, return_dict = True)"
   ]
  },
  {
   "cell_type": "code",
   "execution_count": 28,
   "metadata": {},
   "outputs": [
    {
     "name": "stdout",
     "output_type": "stream",
     "text": [
      "180/180 [==============================] - 0s 2ms/step\n"
     ]
    },
    {
     "data": {
      "text/plain": [
       "array([[0.7495291 ],\n",
       "       [0.59306043],\n",
       "       [0.36576763],\n",
       "       ...,\n",
       "       [0.3573401 ],\n",
       "       [0.32394052],\n",
       "       [0.14766583]], dtype=float32)"
      ]
     },
     "execution_count": 28,
     "metadata": {},
     "output_type": "execute_result"
    }
   ],
   "source": [
    "model.predict(X_test,verbose = 1)"
   ]
  },
  {
   "cell_type": "code",
   "execution_count": 29,
   "metadata": {},
   "outputs": [
    {
     "name": "stdout",
     "output_type": "stream",
     "text": [
      " 51/180 [=======>......................] - ETA: 0s"
     ]
    },
    {
     "name": "stderr",
     "output_type": "stream",
     "text": [
      "C:\\Users\\ASUS\\AppData\\Roaming\\Python\\Python38\\site-packages\\tensorflow\\python\\keras\\engine\\sequential.py:450: UserWarning: `model.predict_classes()` is deprecated and will be removed after 2021-01-01. Please use instead:* `np.argmax(model.predict(x), axis=-1)`,   if your model does multi-class classification   (e.g. if it uses a `softmax` last-layer activation).* `(model.predict(x) > 0.5).astype(\"int32\")`,   if your model does binary classification   (e.g. if it uses a `sigmoid` last-layer activation).\n",
      "  warnings.warn('`model.predict_classes()` is deprecated and '\n"
     ]
    },
    {
     "name": "stdout",
     "output_type": "stream",
     "text": [
      "180/180 [==============================] - 0s 2ms/step\n"
     ]
    }
   ],
   "source": [
    "y_pred = model.predict_classes(X_test,verbose = 1)"
   ]
  },
  {
   "cell_type": "code",
   "execution_count": 30,
   "metadata": {},
   "outputs": [
    {
     "data": {
      "text/plain": [
       "array([[2269,  608],\n",
       "       [1062, 1814]], dtype=int64)"
      ]
     },
     "execution_count": 30,
     "metadata": {},
     "output_type": "execute_result"
    }
   ],
   "source": [
    "confusion_matrix(y_test, y_pred)"
   ]
  },
  {
   "cell_type": "code",
   "execution_count": 31,
   "metadata": {},
   "outputs": [],
   "source": [
    "model = tf.keras.models.Sequential([\n",
    "  tf.keras.layers.Dense(150, input_shape=(11,)),\n",
    "  tf.keras.layers.Dense(200, activation=tf.nn.relu),\n",
    "  tf.keras.layers.Dense(200, activation=tf.nn.relu),\n",
    "  tf.keras.layers.Dense(200, activation=tf.nn.relu),\n",
    "  tf.keras.layers.Dense(200, activation=tf.nn.relu),\n",
    "  tf.keras.layers.Dense(150, activation=tf.nn.relu),\n",
    "  tf.keras.layers.Dense(70, activation=tf.nn.relu),\n",
    "  tf.keras.layers.Dense(30, activation=tf.nn.relu),\n",
    "  tf.keras.layers.Dense(1, activation='sigmoid')\n",
    "])"
   ]
  },
  {
   "cell_type": "code",
   "execution_count": 32,
   "metadata": {},
   "outputs": [],
   "source": [
    "model.compile(optimizer='adam',\n",
    "              loss='binary_crossentropy',\n",
    "              metrics=['accuracy'])"
   ]
  },
  {
   "cell_type": "code",
   "execution_count": 33,
   "metadata": {},
   "outputs": [
    {
     "name": "stdout",
     "output_type": "stream",
     "text": [
      "Epoch 1/30\n",
      "648/648 [==============================] - 6s 7ms/step - loss: 0.6530 - accuracy: 0.6248 - val_loss: 0.5984 - val_accuracy: 0.6997\n",
      "Epoch 2/30\n",
      "648/648 [==============================] - 4s 6ms/step - loss: 0.6149 - accuracy: 0.6809 - val_loss: 0.5898 - val_accuracy: 0.6984\n",
      "Epoch 3/30\n",
      "648/648 [==============================] - 21s 32ms/step - loss: 0.6082 - accuracy: 0.6894 - val_loss: 0.5865 - val_accuracy: 0.7066\n",
      "Epoch 4/30\n",
      "648/648 [==============================] - 4s 6ms/step - loss: 0.5993 - accuracy: 0.6946 - val_loss: 0.6005 - val_accuracy: 0.7001\n",
      "Epoch 5/30\n",
      "648/648 [==============================] - 5s 7ms/step - loss: 0.5926 - accuracy: 0.7008 - val_loss: 0.5901 - val_accuracy: 0.7066\n",
      "Epoch 6/30\n",
      "648/648 [==============================] - 15s 23ms/step - loss: 0.5939 - accuracy: 0.7006 - val_loss: 0.5855 - val_accuracy: 0.7110cu - E\n",
      "Epoch 7/30\n",
      "648/648 [==============================] - 14s 22ms/step - loss: 0.5943 - accuracy: 0.7014 - val_loss: 0.5846 - val_accuracy: 0.7036\n",
      "Epoch 8/30\n",
      "648/648 [==============================] - 5s 7ms/step - loss: 0.5955 - accuracy: 0.6949 - val_loss: 0.5829 - val_accuracy: 0.7119\n",
      "Epoch 9/30\n",
      "648/648 [==============================] - 5s 7ms/step - loss: 0.5886 - accuracy: 0.6995 - val_loss: 0.6017 - val_accuracy: 0.7019\n",
      "Epoch 10/30\n",
      "648/648 [==============================] - 28s 43ms/step - loss: 0.5901 - accuracy: 0.7038 - val_loss: 0.5837 - val_accuracy: 0.7088 loss: 0.590 - ETA: 7s - loss: 0.5903 - accuracy: 0. - ETA: 7s - los - ETA: 6s - loss: 0.5903 - accura - ETA: 6s - loss: 0.5903 -  - ETA: 6s - loss: 0.5902 - accu - E - ETA: 1s - loss: 0.5902 - accuracy - ETA: 0s - loss: 0.5902  - ETA: 0s - loss: 0.5902 - accura\n",
      "Epoch 11/30\n",
      "648/648 [==============================] - 5s 8ms/step - loss: 0.5855 - accuracy: 0.7048 - val_loss: 0.5867 - val_accuracy: 0.7084\n",
      "Epoch 12/30\n",
      "648/648 [==============================] - 5s 8ms/step - loss: 0.5898 - accuracy: 0.7020 - val_loss: 0.5796 - val_accuracy: 0.7093\n",
      "Epoch 13/30\n",
      "648/648 [==============================] - 22s 34ms/step - loss: 0.5821 - accuracy: 0.7063 - val_loss: 0.5887 - val_accuracy: 0.7058: 0.5846 - accuracy: 0.7 - ETA: 25s - loss:  - ETA: 24s  - ETA: 19s - loss: 0.5826 - accuracy - ETA: 18s - loss: 0.5825 - accuracy - ETA: 17s - loss: 0. - ETA: 15s - l - ETA: 12s - loss: 0.5818  - ETA: 11s - loss: 0.58 - ETA: 2s - loss:\n",
      "Epoch 14/30\n",
      "648/648 [==============================] - 4s 6ms/step - loss: 0.5855 - accuracy: 0.7015 - val_loss: 0.5847 - val_accuracy: 0.7036\n",
      "Epoch 15/30\n",
      "648/648 [==============================] - 19s 30ms/step - loss: 0.5802 - accuracy: 0.7095 - val_loss: 0.5826 - val_accuracy: 0.7145s: 0 - ETA:  - ETA: 0s - l - ETA: 0s - loss: 0.5802 \n",
      "Epoch 16/30\n",
      "648/648 [==============================] - 16s 24ms/step - loss: 0.5857 - accuracy: 0.7005 - val_loss: 0.5869 - val_accuracy: 0.7071loss: 0.6016 - accuracy: 0. - ETA: 30s  - ETA: 26s - loss: 0. - ETA: 24s - loss: 0.5912  - ETA: 24s - loss: 0.5909 - accurac - ETA: 24s - loss: 0.5907 - accuracy: 0 - ETA: 23s - loss: 0\n",
      "Epoch 17/30\n",
      "648/648 [==============================] - 5s 8ms/step - loss: 0.5775 - accuracy: 0.7089 - val_loss: 0.5798 - val_accuracy: 0.7066\n",
      "Epoch 18/30\n",
      "648/648 [==============================] - 4s 6ms/step - loss: 0.5755 - accuracy: 0.7066 - val_loss: 0.5859 - val_accuracy: 0.7110\n",
      "Epoch 19/30\n",
      "648/648 [==============================] - 30s 46ms/step - loss: 0.5771 - accuracy: 0.7068 - val_loss: 0.5768 - val_accuracy: 0.7145\n",
      "Epoch 20/30\n",
      "648/648 [==============================] - 7s 10ms/step - loss: 0.5772 - accuracy: 0.7027 - val_loss: 0.5790 - val_accuracy: 0.7080TA: 26s \n",
      "Epoch 21/30\n",
      "648/648 [==============================] - 5s 7ms/step - loss: 0.5746 - accuracy: 0.7113 - val_loss: 0.5769 - val_accuracy: 0.7080\n",
      "Epoch 22/30\n",
      "648/648 [==============================] - 30s 46ms/step - loss: 0.5671 - accuracy: 0.7158 - val_loss: 0.5779 - val_accuracy: 0.7119- accur - ETA: 11s - loss: 0.5644 - accuracy: 0.7 - ETA: 11s - - ETA: 10s - loss: 0.5654 - acc - ETA: 10s - loss: 0.5657 - accur - ETA: 10s - loss: 0.5658 - accuracy: 0.716 - ETA: 10s - loss: 0.5658 - accurac - ETA: 9s - loss: 0.565 - ETA: 2s - loss: 0.5669 - accu - ETA:  - ETA: 1s - loss: 0.5670 - accura - ETA: 0s - loss: 0.5671  - ETA: 0s - loss: 0.5671 - accu\n",
      "Epoch 23/30\n",
      "648/648 [==============================] - 5s 7ms/step - loss: 0.5684 - accuracy: 0.7142 - val_loss: 0.5764 - val_accuracy: 0.7080\n",
      "Epoch 24/30\n",
      "648/648 [==============================] - 5s 7ms/step - loss: 0.5703 - accuracy: 0.7104 - val_loss: 0.5775 - val_accuracy: 0.7162\n",
      "Epoch 25/30\n",
      "648/648 [==============================] - 25s 39ms/step - loss: 0.5579 - accuracy: 0.7224 - val_loss: 0.5828 - val_accuracy: 0.70066 - accuracy: 0. - ETA: 6s - loss: 0.5527 - ac - ETA: 7s - loss: 0.5542 - accuracy - ETA: 7s - loss: 0.5543 -  - ETA: 7s - loss: 0.5545 - accuracy: 0. - ETA:  - ETA: 1s - loss: 0.5575 - ac - ETA: 1s - loss: 0.5576 - accu - ETA\n",
      "Epoch 26/30\n",
      "648/648 [==============================] - 13s 20ms/step - loss: 0.5572 - accuracy: 0.7219 - val_loss: 0.5791 - val_accuracy: 0.7114 loss: 0.5446 - a - ETA: 31s - loss: 0.5465 - acc - ETA: 31s - loss: 0.5460 - \n",
      "Epoch 27/30\n",
      "648/648 [==============================] - 4s 7ms/step - loss: 0.5596 - accuracy: 0.7215 - val_loss: 0.5753 - val_accuracy: 0.7158\n",
      "Epoch 28/30\n",
      "648/648 [==============================] - 30s 46ms/step - loss: 0.5521 - accuracy: 0.7263 - val_loss: 0.5681 - val_accuracy: 0.7193.5470  - ETA: 7s - ETA\n",
      "Epoch 29/30\n",
      "648/648 [==============================] - 8s 12ms/step - loss: 0.5536 - accuracy: 0.7210 - val_loss: 0.5749 - val_accuracy: 0.7097\n",
      "Epoch 30/30\n",
      "648/648 [==============================] - 5s 8ms/step - loss: 0.5459 - accuracy: 0.7322 - val_loss: 0.5842 - val_accuracy: 0.7101\n"
     ]
    }
   ],
   "source": [
    "history = model.fit(X_train,y_train, validation_split=0.1, epochs=30)"
   ]
  },
  {
   "cell_type": "code",
   "execution_count": 34,
   "metadata": {},
   "outputs": [
    {
     "name": "stdout",
     "output_type": "stream",
     "text": [
      "              precision    recall  f1-score   support\n",
      "\n",
      "         0.0       0.68      0.79      0.73      2877\n",
      "         1.0       0.75      0.63      0.68      2876\n",
      "\n",
      "    accuracy                           0.71      5753\n",
      "   macro avg       0.72      0.71      0.71      5753\n",
      "weighted avg       0.72      0.71      0.71      5753\n",
      "\n"
     ]
    }
   ],
   "source": [
    "from sklearn.metrics import classification_report\n",
    "print(classification_report(y_test, y_pred))"
   ]
  },
  {
   "cell_type": "code",
   "execution_count": 35,
   "metadata": {},
   "outputs": [
    {
     "name": "stdout",
     "output_type": "stream",
     "text": [
      "              precision    recall  f1-score   support\n",
      "\n",
      "         0.0       0.68      0.79      0.73      2877\n",
      "         1.0       0.75      0.63      0.68      2876\n",
      "\n",
      "    accuracy                           0.71      5753\n",
      "   macro avg       0.72      0.71      0.71      5753\n",
      "weighted avg       0.72      0.71      0.71      5753\n",
      "\n"
     ]
    }
   ],
   "source": [
    "from sklearn.metrics import classification_report\n",
    "print(classification_report(y_test, y_pred))"
   ]
  },
  {
   "cell_type": "markdown",
   "metadata": {},
   "source": [
    "<h3> We can observe that they don't perform that quite well which is in accordance to the popular belief that neural networks perform much better on unstructured data and not so much on structured ones </h3>"
   ]
  },
  {
   "cell_type": "markdown",
   "metadata": {},
   "source": [
    "<h3> Tring out one of the popular algorithms used in data science competitions for structured data </h3>\n",
    "<h3> XGBoost(a variant of decision trees) </h3>"
   ]
  },
  {
   "cell_type": "code",
   "execution_count": 19,
   "metadata": {},
   "outputs": [],
   "source": [
    "from xgboost import  XGBClassifier\n",
    "from imblearn.pipeline import Pipeline as imbPipe\n",
    "from sklearn.model_selection import GridSearchCV"
   ]
  },
  {
   "cell_type": "code",
   "execution_count": 20,
   "metadata": {},
   "outputs": [],
   "source": [
    "import warnings\n",
    "warnings.filterwarnings(\"ignore\")\n",
    "XGBoost_pipe = imbPipe([\n",
    "    (\"XGBoost\", XGBClassifier(random_state=42,n_jobs=-1,tree_method=\"hist\"))\n",
    "])"
   ]
  },
  {
   "cell_type": "code",
   "execution_count": 21,
   "metadata": {},
   "outputs": [
    {
     "name": "stdout",
     "output_type": "stream",
     "text": [
      "[20:11:58] WARNING: C:/Users/Administrator/workspace/xgboost-win64_release_1.3.0/src/learner.cc:1061: Starting in XGBoost 1.3.0, the default evaluation metric used with the objective 'binary:logistic' was changed from 'error' to 'logloss'. Explicitly set eval_metric if you'd like to restore the old behavior.\n",
      "Best Parameters for Model:   {'XGBoost__colsample_bytree': 0.5, 'XGBoost__gamma': 3, 'XGBoost__max_depth': 20, 'XGBoost__min_child_weight': 22, 'XGBoost__n_estimators': 27, 'XGBoost__subsample': 0.6}\n",
      "\n",
      "\n",
      "              precision    recall  f1-score   support\n",
      "\n",
      "         0.0       0.80      0.86      0.83     11504\n",
      "         1.0       0.85      0.78      0.82     11505\n",
      "\n",
      "    accuracy                           0.82     23009\n",
      "   macro avg       0.83      0.82      0.82     23009\n",
      "weighted avg       0.83      0.82      0.82     23009\n",
      "\n"
     ]
    }
   ],
   "source": [
    "params={\n",
    "    \"XGBoost__max_depth\": [20,21],\n",
    "    \"XGBoost__min_child_weight\":[22,23],\n",
    "    \"XGBoost__n_estimators\":[25,27],\n",
    "    \"XGBoost__subsample\":[0.4,0.5,0.6],\n",
    "    \"XGBoost__colsample_bytree\":[0.4,0.5,0.6],\n",
    "    \"XGBoost__gamma\":[1,2,3],\n",
    "    \n",
    "}\n",
    "\n",
    "XGBoost_grid = GridSearchCV(XGBoost_pipe, params, n_jobs=-1,cv=3,scoring=\"roc_auc\")\n",
    "XGBoost_grid.fit(X_train, y_train)\n",
    "print(\"Best Parameters for Model:  \",XGBoost_grid.best_params_)\n",
    "y_pred=XGBoost_grid.predict(X_train)\n",
    "print(\"\\n\")\n",
    "print(classification_report(y_train, y_pred))"
   ]
  },
  {
   "cell_type": "code",
   "execution_count": 22,
   "metadata": {},
   "outputs": [
    {
     "name": "stdout",
     "output_type": "stream",
     "text": [
      "              precision    recall  f1-score   support\n",
      "\n",
      "         0.0       0.78      0.85      0.82      2877\n",
      "         1.0       0.84      0.76      0.80      2876\n",
      "\n",
      "    accuracy                           0.81      5753\n",
      "   macro avg       0.81      0.81      0.81      5753\n",
      "weighted avg       0.81      0.81      0.81      5753\n",
      "\n"
     ]
    }
   ],
   "source": [
    "y_pred=XGBoost_grid.predict(X_test)\n",
    "print(classification_report(y_test, y_pred))"
   ]
  },
  {
   "cell_type": "markdown",
   "metadata": {},
   "source": [
    "<h3> Trying Random forests </h3>"
   ]
  },
  {
   "cell_type": "code",
   "execution_count": 21,
   "metadata": {},
   "outputs": [],
   "source": [
    "from sklearn.ensemble import RandomForestClassifier"
   ]
  },
  {
   "cell_type": "code",
   "execution_count": 22,
   "metadata": {},
   "outputs": [],
   "source": [
    "#Create a Gaussian Classifier\n",
    "clf=RandomForestClassifier(n_estimators=100)"
   ]
  },
  {
   "cell_type": "code",
   "execution_count": 23,
   "metadata": {},
   "outputs": [
    {
     "name": "stderr",
     "output_type": "stream",
     "text": [
      "<ipython-input-23-9e73616df194>:2: DataConversionWarning: A column-vector y was passed when a 1d array was expected. Please change the shape of y to (n_samples,), for example using ravel().\n",
      "  clf.fit(X_train,y_train)\n"
     ]
    }
   ],
   "source": [
    "#Train the model using the training sets y_pred=clf.predict(X_test)\n",
    "clf.fit(X_train,y_train)\n",
    "\n",
    "y_pred=clf.predict(X_test)"
   ]
  },
  {
   "cell_type": "code",
   "execution_count": 25,
   "metadata": {},
   "outputs": [
    {
     "name": "stdout",
     "output_type": "stream",
     "text": [
      "              precision    recall  f1-score   support\n",
      "\n",
      "         0.0       0.81      0.82      0.81      2877\n",
      "         1.0       0.82      0.80      0.81      2876\n",
      "\n",
      "    accuracy                           0.81      5753\n",
      "   macro avg       0.81      0.81      0.81      5753\n",
      "weighted avg       0.81      0.81      0.81      5753\n",
      "\n"
     ]
    }
   ],
   "source": [
    "from sklearn.metrics import classification_report, confusion_matrix\n",
    "print(classification_report(y_test, y_pred))"
   ]
  },
  {
   "cell_type": "code",
   "execution_count": null,
   "metadata": {},
   "outputs": [],
   "source": []
  }
 ],
 "metadata": {
  "kernelspec": {
   "display_name": "Python 3",
   "language": "python",
   "name": "python3"
  },
  "language_info": {
   "codemirror_mode": {
    "name": "ipython",
    "version": 3
   },
   "file_extension": ".py",
   "mimetype": "text/x-python",
   "name": "python",
   "nbconvert_exporter": "python",
   "pygments_lexer": "ipython3",
   "version": "3.8.5"
  }
 },
 "nbformat": 4,
 "nbformat_minor": 4
}
